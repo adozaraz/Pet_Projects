{
 "cells": [
  {
   "cell_type": "code",
   "execution_count": 1,
   "outputs": [],
   "source": [
    "import requests\n",
    "from lxml import etree"
   ],
   "metadata": {
    "collapsed": false,
    "ExecuteTime": {
     "end_time": "2023-07-12T08:56:52.745984800Z",
     "start_time": "2023-07-12T08:56:52.601943700Z"
    }
   }
  },
  {
   "cell_type": "code",
   "execution_count": 2,
   "outputs": [],
   "source": [
    "urls = ['https://priemsamara.ru/ratings/?pk=1003&pay=budget&filter=all', 'https://priemsamara.ru/ratings/?pk=1012&pay=budget&filter=all']\n",
    "diplomaAvailable = {0: {'Да': 0, 'Нет': 0}, 1: {'Да': 0, 'Нет': 0}}\n",
    "priority = {0: dict(), 1: dict()}"
   ],
   "metadata": {
    "collapsed": false,
    "ExecuteTime": {
     "end_time": "2023-07-12T08:56:52.761988300Z",
     "start_time": "2023-07-12T08:56:52.749975600Z"
    }
   }
  },
  {
   "cell_type": "code",
   "execution_count": 3,
   "outputs": [],
   "source": [
    "request = requests.get(urls[1])"
   ],
   "metadata": {
    "collapsed": false,
    "ExecuteTime": {
     "end_time": "2023-07-12T08:56:53.059047500Z",
     "start_time": "2023-07-12T08:56:52.762980200Z"
    }
   }
  },
  {
   "cell_type": "code",
   "execution_count": 5,
   "outputs": [],
   "source": [
    "from io import StringIO\n",
    "tree = etree.parse(StringIO(request.content.decode('utf-8')), etree.HTMLParser())"
   ],
   "metadata": {
    "collapsed": false,
    "ExecuteTime": {
     "end_time": "2023-07-12T08:56:55.036501300Z",
     "start_time": "2023-07-12T08:56:54.999482700Z"
    }
   }
  },
  {
   "cell_type": "code",
   "execution_count": 8,
   "outputs": [],
   "source": [
    "data = tree.xpath('/html/body/div[1]/div[2]/div[1]/div/div[1]/label[2]')"
   ],
   "metadata": {
    "collapsed": false,
    "ExecuteTime": {
     "end_time": "2023-07-12T08:57:26.080762400Z",
     "start_time": "2023-07-12T08:57:26.061757400Z"
    }
   }
  },
  {
   "cell_type": "code",
   "execution_count": 13,
   "outputs": [
    {
     "data": {
      "text/plain": "'09.04.01 Информатика и вычислительная техника'"
     },
     "execution_count": 13,
     "metadata": {},
     "output_type": "execute_result"
    }
   ],
   "source": [
    "' '.join(data[0].text.split())"
   ],
   "metadata": {
    "collapsed": false,
    "ExecuteTime": {
     "end_time": "2023-07-12T08:58:12.234676900Z",
     "start_time": "2023-07-12T08:58:12.210671800Z"
    }
   }
  },
  {
   "cell_type": "code",
   "execution_count": null,
   "outputs": [],
   "source": [],
   "metadata": {
    "collapsed": false
   }
  }
 ],
 "metadata": {
  "kernelspec": {
   "display_name": "Python 3",
   "language": "python",
   "name": "python3"
  },
  "language_info": {
   "codemirror_mode": {
    "name": "ipython",
    "version": 2
   },
   "file_extension": ".py",
   "mimetype": "text/x-python",
   "name": "python",
   "nbconvert_exporter": "python",
   "pygments_lexer": "ipython2",
   "version": "2.7.6"
  }
 },
 "nbformat": 4,
 "nbformat_minor": 0
}
